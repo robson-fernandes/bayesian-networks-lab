{
 "cells": [
  {
   "cell_type": "code",
   "execution_count": 1,
   "metadata": {},
   "outputs": [],
   "source": [
    "import pandas as pd\n",
    "import networkx as nx\n",
    "import matplotlib.pyplot as plt"
   ]
  },
  {
   "cell_type": "code",
   "execution_count": 2,
   "metadata": {},
   "outputs": [
    {
     "name": "stdout",
     "output_type": "stream",
     "text": [
      "[('test1', 'example.org', {'weight': 1}), ('something', 'site.com', {'weight': 1}), ('test2', 'example.org', {'weight': 1}), ('test3', 'example.org', {'weight': 1}), ('else', 'website.com', {'weight': 1})]\n"
     ]
    },
    {
     "data": {
      "image/png": "[encoded data removed]",
      "text/plain": [
       "<matplotlib.figure.Figure at 0x1118f6438>"
      ]
     },
     "metadata": {},
     "output_type": "display_data"
    }
   ],
   "source": [
    "df = pd.DataFrame(\n",
    "    {'IP': ['10.20.30.40',\n",
    "      '30.50.70.90',\n",
    "      '10.20.30.41',\n",
    "      '10.20.30.42',\n",
    "      '90.80.70.10'],\n",
    "     'domain': ['example.org',\n",
    "      'site.com',\n",
    "      'example.org',\n",
    "      'example.org',\n",
    "      'website.com'],\n",
    "     'subdomain': ['test1', 'something', 'test2', 'test3', 'else']})\n",
    "\n",
    "B = nx.Graph()\n",
    "B.add_nodes_from(df['subdomain'], bipartite=0)\n",
    "B.add_nodes_from(df['domain'], bipartite=1)\n",
    "B.add_weighted_edges_from(\n",
    "    [(row['domain'], row['subdomain'], 1) for idx, row in df.iterrows()], \n",
    "    weight='weight')\n",
    "\n",
    "print(B.edges(data=True))\n",
    "# [('test1', 'example.org', {'weight': 1}), ('test3', 'example.org', {'weight': 1}), ('test2', 'example.org', {'weight': 1}), ('website.com', 'else', {'weight': 1}), ('site.com', 'something', {'weight': 1})]\n",
    "\n",
    "pos = {node:[0, i] for i,node in enumerate(df['domain'])}\n",
    "pos.update({node:[1, i] for i,node in enumerate(df['subdomain'])})\n",
    "nx.draw(B, pos, with_labels=False)\n",
    "for p in pos:  # raise text positions\n",
    "    pos[p][1] += 0.25\n",
    "nx.draw_networkx_labels(B, pos)\n",
    "\n",
    "plt.show()"
   ]
  },
  {
   "cell_type": "code",
   "execution_count": null,
   "metadata": {},
   "outputs": [],
   "source": []
  }
 ],
 "metadata": {
  "kernelspec": {
   "display_name": "Python 3",
   "language": "python",
   "name": "python3"
  },
  "language_info": {
   "codemirror_mode": {
    "name": "ipython",
    "version": 3
   },
   "file_extension": ".py",
   "mimetype": "text/x-python",
   "name": "python",
   "nbconvert_exporter": "python",
   "pygments_lexer": "ipython3",
   "version": "3.6.3"
  }
 },
 "nbformat": 4,
 "nbformat_minor": 2
}
